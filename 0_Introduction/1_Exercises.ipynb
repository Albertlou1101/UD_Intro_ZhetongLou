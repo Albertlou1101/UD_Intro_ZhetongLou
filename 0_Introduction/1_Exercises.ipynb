{
 "cells": [
  {
   "cell_type": "markdown",
   "id": "38e188a5",
   "metadata": {},
   "source": [
    "# Exercise 00\n",
    "Write a piece of code that allocates a list of 20 integers and initializes each element by its index multiplied by 5. Print the result."
   ]
  },
  {
   "cell_type": "code",
   "execution_count": 1,
   "id": "01aa4f35",
   "metadata": {},
   "outputs": [],
   "source": [
    "listOfNrs = list(range(20))"
   ]
  },
  {
   "cell_type": "code",
   "execution_count": 2,
   "id": "8a3bfc6c",
   "metadata": {},
   "outputs": [
    {
     "name": "stdout",
     "output_type": "stream",
     "text": [
      "[0, 1, 2, 3, 4, 5, 6, 7, 8, 9, 10, 11, 12, 13, 14, 15, 16, 17, 18, 19]\n"
     ]
    }
   ],
   "source": [
    "print(listOfNrs)"
   ]
  },
  {
   "cell_type": "code",
   "execution_count": 17,
   "id": "857c6f27",
   "metadata": {},
   "outputs": [
    {
     "name": "stdout",
     "output_type": "stream",
     "text": [
      "[0, 5, 10, 15, 20, 25, 30, 35, 40, 45, 50, 55, 60, 65, 70, 75, 80, 85, 90, 95]\n"
     ]
    }
   ],
   "source": [
    "listOfNrs = list(range(20))\n",
    "newlist = [i * 5 for i in listOfNrs]\n",
    "print(newlist)"
   ]
  },
  {
   "cell_type": "markdown",
   "id": "529d91ae",
   "metadata": {},
   "source": [
    "# Exercise 01\n",
    "Define a function that takes an integer as input, prints  all integers that it is divisable by, and returns the largest one."
   ]
  },
  {
   "cell_type": "code",
   "execution_count": null,
   "id": "30e79132",
   "metadata": {},
   "outputs": [],
   "source": [
    "def print_alldividible_num(is):\n",
    "     for i\n",
    "        \n",
    "    return"
   ]
  },
  {
   "cell_type": "code",
   "execution_count": 19,
   "id": "cfe252c2",
   "metadata": {},
   "outputs": [
    {
     "ename": "SyntaxError",
     "evalue": "invalid syntax (3271322447.py, line 3)",
     "output_type": "error",
     "traceback": [
      "\u001b[1;36m  Cell \u001b[1;32mIn[19], line 3\u001b[1;36m\u001b[0m\n\u001b[1;33m    while n % [for i in range(0,n)] != 0\u001b[0m\n\u001b[1;37m               ^\u001b[0m\n\u001b[1;31mSyntaxError\u001b[0m\u001b[1;31m:\u001b[0m invalid syntax\n"
     ]
    }
   ],
   "source": [
    "n = int(input(\"entre num:\"))\n",
    "\n",
    "while n % [for i in range(0,n)] != 0\n",
    "    print(i)"
   ]
  },
  {
   "cell_type": "code",
   "execution_count": 68,
   "id": "7dfd3f69",
   "metadata": {},
   "outputs": [],
   "source": [
    "def print_alldividible_num(num):\n",
    "    num = list(range(1,num+1))\n",
    "    print(num)\n",
    " "
   ]
  },
  {
   "cell_type": "code",
   "execution_count": 69,
   "id": "e62d7287",
   "metadata": {},
   "outputs": [
    {
     "name": "stdout",
     "output_type": "stream",
     "text": [
      "[1, 2, 3, 4, 5, 6, 7, 8, 9, 10]\n"
     ]
    }
   ],
   "source": [
    "d = print_alldividible_num(10)"
   ]
  },
  {
   "cell_type": "code",
   "execution_count": 77,
   "id": "4636d224",
   "metadata": {},
   "outputs": [],
   "source": [
    "def xxx(num):\n",
    "    a = list(range(1,num+1))\n",
    "    newnum = []\n",
    "    for x in num:\n",
    "        newnum.append(num%a)\n"
   ]
  },
  {
   "cell_type": "code",
   "execution_count": 78,
   "id": "20fd3d76",
   "metadata": {},
   "outputs": [
    {
     "ename": "TypeError",
     "evalue": "'int' object is not iterable",
     "output_type": "error",
     "traceback": [
      "\u001b[1;31m---------------------------------------------------------------------------\u001b[0m",
      "\u001b[1;31mTypeError\u001b[0m                                 Traceback (most recent call last)",
      "Cell \u001b[1;32mIn[78], line 1\u001b[0m\n\u001b[1;32m----> 1\u001b[0m mylist \u001b[38;5;241m=\u001b[39m \u001b[43mxxx\u001b[49m\u001b[43m(\u001b[49m\u001b[38;5;241;43m10\u001b[39;49m\u001b[43m)\u001b[49m\n",
      "Cell \u001b[1;32mIn[77], line 4\u001b[0m, in \u001b[0;36mxxx\u001b[1;34m(num)\u001b[0m\n\u001b[0;32m      2\u001b[0m a \u001b[38;5;241m=\u001b[39m \u001b[38;5;28mlist\u001b[39m(\u001b[38;5;28mrange\u001b[39m(\u001b[38;5;241m1\u001b[39m,num\u001b[38;5;241m+\u001b[39m\u001b[38;5;241m1\u001b[39m))\n\u001b[0;32m      3\u001b[0m newnum \u001b[38;5;241m=\u001b[39m []\n\u001b[1;32m----> 4\u001b[0m \u001b[38;5;28;01mfor\u001b[39;00m x \u001b[38;5;129;01min\u001b[39;00m num:\n\u001b[0;32m      5\u001b[0m     newnum\u001b[38;5;241m.\u001b[39mappend(num\u001b[38;5;241m%\u001b[39ma)\n",
      "\u001b[1;31mTypeError\u001b[0m: 'int' object is not iterable"
     ]
    }
   ],
   "source": [
    "mylist = xxx(10)"
   ]
  },
  {
   "cell_type": "code",
   "execution_count": 76,
   "id": "a5b0ffda",
   "metadata": {},
   "outputs": [
    {
     "ename": "SyntaxError",
     "evalue": "invalid syntax (492415853.py, line 3)",
     "output_type": "error",
     "traceback": [
      "\u001b[1;36m  Cell \u001b[1;32mIn[76], line 3\u001b[1;36m\u001b[0m\n\u001b[1;33m    while not n = int:\u001b[0m\n\u001b[1;37m                ^\u001b[0m\n\u001b[1;31mSyntaxError\u001b[0m\u001b[1;31m:\u001b[0m invalid syntax\n"
     ]
    }
   ],
   "source": [
    "n = int(input())\n",
    "\n",
    "while not n = int:\n",
    "    print(n)"
   ]
  },
  {
   "cell_type": "code",
   "execution_count": 84,
   "id": "87bfd6d1",
   "metadata": {},
   "outputs": [],
   "source": [
    "def aaa(num):\n",
    "    newnum = list(range(1,num+1))\n",
    "    return filter((str(num) % str(newnum) == 0),newnum)"
   ]
  },
  {
   "cell_type": "code",
   "execution_count": 85,
   "id": "d1597a01",
   "metadata": {},
   "outputs": [
    {
     "ename": "TypeError",
     "evalue": "not all arguments converted during string formatting",
     "output_type": "error",
     "traceback": [
      "\u001b[1;31m---------------------------------------------------------------------------\u001b[0m",
      "\u001b[1;31mTypeError\u001b[0m                                 Traceback (most recent call last)",
      "Cell \u001b[1;32mIn[85], line 1\u001b[0m\n\u001b[1;32m----> 1\u001b[0m f \u001b[38;5;241m=\u001b[39m \u001b[43maaa\u001b[49m\u001b[43m(\u001b[49m\u001b[38;5;241;43m10\u001b[39;49m\u001b[43m)\u001b[49m\n",
      "Cell \u001b[1;32mIn[84], line 3\u001b[0m, in \u001b[0;36maaa\u001b[1;34m(num)\u001b[0m\n\u001b[0;32m      1\u001b[0m \u001b[38;5;28;01mdef\u001b[39;00m \u001b[38;5;21maaa\u001b[39m(num):\n\u001b[0;32m      2\u001b[0m     newnum \u001b[38;5;241m=\u001b[39m \u001b[38;5;28mlist\u001b[39m(\u001b[38;5;28mrange\u001b[39m(\u001b[38;5;241m1\u001b[39m,num\u001b[38;5;241m+\u001b[39m\u001b[38;5;241m1\u001b[39m))\n\u001b[1;32m----> 3\u001b[0m     \u001b[38;5;28;01mreturn\u001b[39;00m \u001b[38;5;28mfilter\u001b[39m((\u001b[38;5;28;43mstr\u001b[39;49m\u001b[43m(\u001b[49m\u001b[43mnum\u001b[49m\u001b[43m)\u001b[49m\u001b[43m \u001b[49m\u001b[38;5;241;43m%\u001b[39;49m\u001b[43m \u001b[49m\u001b[38;5;28;43mstr\u001b[39;49m\u001b[43m(\u001b[49m\u001b[43mnewnum\u001b[49m\u001b[43m)\u001b[49m \u001b[38;5;241m==\u001b[39m \u001b[38;5;241m0\u001b[39m),newnum)\n",
      "\u001b[1;31mTypeError\u001b[0m: not all arguments converted during string formatting"
     ]
    }
   ],
   "source": [
    "f = aaa(10)"
   ]
  },
  {
   "cell_type": "code",
   "execution_count": 239,
   "id": "2739bcb9",
   "metadata": {},
   "outputs": [],
   "source": [
    "def the_possible_divide_numb(a):\n",
    "    num = a\n",
    "\n",
    "    numbers = []\n",
    "\n",
    "    for i in range(1,num+1):\n",
    "        if num % i == 0:\n",
    "            numbers.append(i)\n",
    "    numbers.reverse()\n",
    "    print(numbers)\n",
    "    print(\"the max number is:\", numbers[0])"
   ]
  },
  {
   "cell_type": "code",
   "execution_count": 240,
   "id": "62438115",
   "metadata": {
    "scrolled": true
   },
   "outputs": [
    {
     "name": "stdout",
     "output_type": "stream",
     "text": [
      "100\n",
      "[1, 2, 4, 5, 10, 20, 25, 50, 100]\n",
      "the max number is: 1\n"
     ]
    }
   ],
   "source": [
    "result = the_possible_divide_numb(int(input()))"
   ]
  },
  {
   "cell_type": "code",
   "execution_count": 242,
   "id": "149d22fa",
   "metadata": {},
   "outputs": [],
   "source": [
    "def aaaaaa(x):\n",
    "    num = []\n",
    "    numbs = x\n",
    "    \n",
    "    for i in range(1,numbs+1):\n",
    "        if numbs % i == 0:\n",
    "            num.append(i)\n",
    "    print(num)"
   ]
  },
  {
   "cell_type": "code",
   "execution_count": 243,
   "id": "84fb586a",
   "metadata": {},
   "outputs": [
    {
     "name": "stdout",
     "output_type": "stream",
     "text": [
      "10\n",
      "[1, 2, 5, 10]\n"
     ]
    }
   ],
   "source": [
    "f = aaaaaa(int(input()))"
   ]
  },
  {
   "cell_type": "code",
   "execution_count": null,
   "id": "2789495a",
   "metadata": {},
   "outputs": [],
   "source": [
    "if did % y ==0:\n",
    "            print(y)\n",
    "            list.append(y)\n",
    "            print(list)"
   ]
  },
  {
   "cell_type": "markdown",
   "id": "cfbe30d4",
   "metadata": {},
   "source": [
    "# Exercise 02\n",
    "- create a dictionary with 6 keys and values of your choice\n",
    "- write a function that takes a dictionary and a value as input and returns whether the value occurs as a key in the dictionary\n",
    "- write a function that takes a dictionary as input, and returns the dictionary but the keys are swapped with their values (resolve the issue if a value occurs twice!)"
   ]
  },
  {
   "cell_type": "code",
   "execution_count": 135,
   "id": "2123f1c6",
   "metadata": {},
   "outputs": [],
   "source": [
    "thisDict = {\n",
    "    \"brand\":\"Airbus\",\n",
    "    \"model\":\"A350-900\",\n",
    "    \"year\":\"2023\",\n",
    "    \"seats\":\"310\",\n",
    "    \"range\":\"15000km\",\n",
    "    \"MTOW\":\"250000kg\"}"
   ]
  },
  {
   "cell_type": "code",
   "execution_count": 137,
   "id": "eaa6ff95",
   "metadata": {},
   "outputs": [
    {
     "data": {
      "text/plain": [
       "'Airbus'"
      ]
     },
     "execution_count": 137,
     "metadata": {},
     "output_type": "execute_result"
    }
   ],
   "source": [
    "thisDict[\"brand\"]"
   ]
  },
  {
   "cell_type": "code",
   "execution_count": 139,
   "id": "5ad9e64c",
   "metadata": {},
   "outputs": [
    {
     "name": "stdout",
     "output_type": "stream",
     "text": [
      "brand\n",
      "model\n",
      "year\n",
      "seats\n",
      "range\n",
      "MTOW\n"
     ]
    }
   ],
   "source": [
    "for x,y in thisDict.items():\n",
    "    print(x)"
   ]
  },
  {
   "cell_type": "code",
   "execution_count": 191,
   "id": "2e56212b",
   "metadata": {},
   "outputs": [],
   "source": [
    "def keys_detector(x,y):\n",
    "    y = list(thisDict.keys())\n",
    "    z = list(thisDict.values())\n",
    "    if x in y:\n",
    "        print(\"keys\")\n",
    "    elif  x in z:\n",
    "        print(\"values\")\n",
    "    else :\n",
    "        print(\"not in dic\")\n",
    "   \n",
    "    "
   ]
  },
  {
   "cell_type": "code",
   "execution_count": 192,
   "id": "f6dd0ce0",
   "metadata": {},
   "outputs": [
    {
     "name": "stdout",
     "output_type": "stream",
     "text": [
      "values:brand\n",
      "Dic's name:thisDict\n",
      "keys\n"
     ]
    }
   ],
   "source": [
    "c = keys_detector(input(\"values:\"),input(\"Dic's name:\"))"
   ]
  },
  {
   "cell_type": "code",
   "execution_count": 211,
   "id": "4ba84c3d",
   "metadata": {},
   "outputs": [],
   "source": [
    "def aaaa(x):\n",
    "    y = x.keys()\n",
    "    z = x.values()\n",
    "    \n",
    "    inv_map = {z:y for y,z in x.items()}\n",
    "    \n",
    "    for y,z in inv_map.items():\n",
    "        print(y,z)\n",
    "    return print(inv_map)"
   ]
  },
  {
   "cell_type": "code",
   "execution_count": 212,
   "id": "afea866c",
   "metadata": {},
   "outputs": [
    {
     "name": "stdout",
     "output_type": "stream",
     "text": [
      "Airbus brand\n",
      "A350-900 model\n",
      "2023 year\n",
      "310 seats\n",
      "15000km range\n",
      "250000kg MTOW\n",
      "{'Airbus': 'brand', 'A350-900': 'model', '2023': 'year', '310': 'seats', '15000km': 'range', '250000kg': 'MTOW'}\n"
     ]
    }
   ],
   "source": [
    "f = aaaa(thisDict)"
   ]
  },
  {
   "cell_type": "markdown",
   "id": "b4b4e426",
   "metadata": {},
   "source": [
    "# Exercise 03\n",
    "Define a function that creates a dictionary of the first n fibonacci numbers as values paired with their indices as keys. "
   ]
  },
  {
   "cell_type": "code",
   "execution_count": 101,
   "id": "96d8365b",
   "metadata": {},
   "outputs": [],
   "source": [
    "def febdict(n):\n",
    "    febdict = {}\n",
    "    a = 0\n",
    "    b = 1\n",
    " \n",
    "    for i in range(1,n+1):\n",
    "        febdict[i] = b\n",
    "        t = a\n",
    "        a = b\n",
    "        b = t+b\n",
    "    return febdict\n",
    "        "
   ]
  },
  {
   "cell_type": "code",
   "execution_count": 102,
   "id": "a53e4c81",
   "metadata": {},
   "outputs": [
    {
     "data": {
      "text/plain": [
       "{1: 1, 2: 1, 3: 2, 4: 3, 5: 5}"
      ]
     },
     "execution_count": 102,
     "metadata": {},
     "output_type": "execute_result"
    }
   ],
   "source": [
    "febdict(5)"
   ]
  }
 ],
 "metadata": {
  "kernelspec": {
   "display_name": "Python 3 (ipykernel)",
   "language": "python",
   "name": "python3"
  },
  "language_info": {
   "codemirror_mode": {
    "name": "ipython",
    "version": 3
   },
   "file_extension": ".py",
   "mimetype": "text/x-python",
   "name": "python",
   "nbconvert_exporter": "python",
   "pygments_lexer": "ipython3",
   "version": "3.8.18"
  }
 },
 "nbformat": 4,
 "nbformat_minor": 5
}
