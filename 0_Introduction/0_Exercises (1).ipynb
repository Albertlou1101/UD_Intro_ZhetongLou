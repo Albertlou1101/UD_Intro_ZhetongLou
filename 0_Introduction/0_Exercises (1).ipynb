{
 "cells": [
  {
   "cell_type": "markdown",
   "id": "529d91ae",
   "metadata": {},
   "source": [
    "# Exercise 00\n",
    "Write a bit of code that prints _Introduction to Programming_ to the console and execute the cell"
   ]
  },
  {
   "cell_type": "code",
   "execution_count": 1,
   "id": "98711beb",
   "metadata": {},
   "outputs": [
    {
     "name": "stdout",
     "output_type": "stream",
     "text": [
      "Introduction to Programming\n"
     ]
    }
   ],
   "source": [
    "print(\"Introduction to Programming\")"
   ]
  },
  {
   "cell_type": "markdown",
   "id": "63ad5023",
   "metadata": {},
   "source": [
    "-----------------------------------------------------------------------------\n",
    "# Exercise 01\n",
    "Hello World is traditionally the first program anyone writes. It is\n",
    "very simple and the only thing it should do is print Hello World! to the\n",
    "terminal window.\n",
    "Create a file called HelloWorld.py and edit the contents so it prints Hello World! to the terminal and execute it using the command line."
   ]
  },
  {
   "cell_type": "markdown",
   "id": "a4a7c4c2",
   "metadata": {},
   "source": [
    "-----------------------------------------------------------------------------\n",
    "# Exercise 02\n",
    "Write some code to print your name, email, and age on separate lines. For each element first assign it to a variable and use the variable to print. \n",
    "\n",
    "Bonus: try to create the print statement for all variable in one line of code. (hint: '\\n' is the character for a new line)"
   ]
  },
  {
   "cell_type": "code",
   "execution_count": 27,
   "id": "fc8fface",
   "metadata": {},
   "outputs": [],
   "source": [
    "myName = \"Zhetong Lou\"\n",
    "myEmail = \"zhetong.lou.23@ucl.ac.uk\"\n",
    "myAge = \"23\""
   ]
  },
  {
   "cell_type": "code",
   "execution_count": 59,
   "id": "e4663c40",
   "metadata": {},
   "outputs": [
    {
     "name": "stdout",
     "output_type": "stream",
     "text": [
      "Zhetong Lou\n",
      "zhetong.lou.23@ucl.ac.uk\n",
      "23\n"
     ]
    }
   ],
   "source": [
    "print(myName + '\\n'+myEmail +'\\n'+myAge)"
   ]
  },
  {
   "cell_type": "markdown",
   "id": "0dd1c1d1",
   "metadata": {},
   "source": [
    "-----------------------------------------------------------------------------\n",
    "# Exercise 03\n",
    "Print the numbers 0, 178, -21, 2938 divided by 49, 436 multiplied with 9948 and 12 to the power of 20\n",
    "\n",
    "(Hint: Look up the documentation of basic arithmetic operators)"
   ]
  },
  {
   "cell_type": "code",
   "execution_count": 65,
   "id": "f3d5d009",
   "metadata": {},
   "outputs": [
    {
     "name": "stdout",
     "output_type": "stream",
     "text": [
      "0 178 -21 59.95918367346939 4337328 3833759992447475122176\n"
     ]
    }
   ],
   "source": [
    "print(0 , 178 , -21 , 2938/49 , 436*9948 , 12**20)"
   ]
  },
  {
   "cell_type": "markdown",
   "id": "1f151455",
   "metadata": {},
   "source": [
    "-----------------------------------------------------------------------------\n",
    "# Exercise 04\n",
    "Print sin(200), cos(100), tan($\\pi$/4)\n",
    "\n",
    "(Hint: Look up for how to use trigonometric function, and how to get the value of $\\pi$.)"
   ]
  },
  {
   "cell_type": "code",
   "execution_count": 67,
   "id": "d0e37690",
   "metadata": {},
   "outputs": [
    {
     "data": {
      "text/plain": [
       "3.141592653589793"
      ]
     },
     "execution_count": 67,
     "metadata": {},
     "output_type": "execute_result"
    }
   ],
   "source": [
    "import math\n",
    "math. pi"
   ]
  },
  {
   "cell_type": "code",
   "execution_count": 79,
   "id": "a06f2657",
   "metadata": {},
   "outputs": [],
   "source": [
    "x = math.sin(200)\n",
    "y = math.cos(100)\n",
    "z = math.tan(math.pi/4)"
   ]
  },
  {
   "cell_type": "code",
   "execution_count": 83,
   "id": "901f6538",
   "metadata": {},
   "outputs": [
    {
     "name": "stdout",
     "output_type": "stream",
     "text": [
      "-0.8732972972139946 0.8623188722876839 0.9999999999999999\n"
     ]
    }
   ],
   "source": [
    "print(x , y , z)"
   ]
  },
  {
   "cell_type": "code",
   "execution_count": 84,
   "id": "554bd745",
   "metadata": {},
   "outputs": [
    {
     "name": "stdout",
     "output_type": "stream",
     "text": [
      "-0.8732972972139946 0.8623188722876839 0.9999999999999999\n"
     ]
    }
   ],
   "source": [
    "print(math.sin(200) , math.cos(100) , math.tan(math.pi/4))"
   ]
  },
  {
   "cell_type": "markdown",
   "id": "9d026820",
   "metadata": {},
   "source": [
    "-----------------------------------------------------------------------------\n",
    "# Exercise 05\n",
    "Write a program to read your first and last names from the console seperately, and then print them on the console together, separated by a space."
   ]
  },
  {
   "cell_type": "code",
   "execution_count": 92,
   "id": "4c7217e0",
   "metadata": {},
   "outputs": [
    {
     "name": "stdout",
     "output_type": "stream",
     "text": [
      "zhetong\n",
      "lou\n"
     ]
    }
   ],
   "source": [
    "user_input1 = input()\n",
    "user_input2 = input()"
   ]
  },
  {
   "cell_type": "code",
   "execution_count": 95,
   "id": "652ef614",
   "metadata": {},
   "outputs": [
    {
     "name": "stdout",
     "output_type": "stream",
     "text": [
      "zhetong lou\n"
     ]
    }
   ],
   "source": [
    "print(user_input1 + ' '+ user_input2)"
   ]
  },
  {
   "cell_type": "markdown",
   "id": "e83fa346",
   "metadata": {},
   "source": [
    "-----------------------------------------------------------------------------\n",
    "# Exercise 06\n",
    "Write a program that determines whether a number given as user input is positive or negative\n",
    " \n",
    "You will need to convert the console input from a string to a number first!"
   ]
  },
  {
   "cell_type": "code",
   "execution_count": 109,
   "id": "ecd924c2",
   "metadata": {},
   "outputs": [
    {
     "name": "stdout",
     "output_type": "stream",
     "text": [
      "-10\n",
      "negative\n"
     ]
    }
   ],
   "source": [
    "user_input = input()\n",
    "\n",
    "if int(user_input)>0:\n",
    "    print(\"positive\")\n",
    "elif int(user_input)<0:\n",
    "    print(\"negative\")"
   ]
  },
  {
   "cell_type": "markdown",
   "id": "2a192596",
   "metadata": {},
   "source": [
    "-----------------------------------------------------------------------------\n",
    "# Exercise 07\n",
    "Write a program that picks a random number between 1-20 and makes the user guess until they get the number right. Then print a congratulations message\n",
    "- (Find out yourself how to generate a random integer)\n",
    "- Bonus: make the user choose the range within which they have to guess\n",
    "- Bonus: keep track of how many guesses were made and print this at the end"
   ]
  },
  {
   "cell_type": "code",
   "execution_count": null,
   "id": "70358dd3",
   "metadata": {},
   "outputs": [],
   "source": [
    "import random"
   ]
  },
  {
   "cell_type": "code",
   "execution_count": null,
   "id": "46d4a265",
   "metadata": {},
   "outputs": [],
   "source": [
    "user_input = input()"
   ]
  },
  {
   "cell_type": "code",
   "execution_count": 144,
   "id": "c13a25e5",
   "metadata": {},
   "outputs": [
    {
     "name": "stdout",
     "output_type": "stream",
     "text": [
      "1\n",
      "no\n"
     ]
    }
   ],
   "source": [
    "A = random.randint(1,20)\n",
    "user_input = input()\n",
    "\n",
    "if int(user_input) == int(A):\n",
    "    print(\"congratulations\")\n",
    "else:\n",
    "    print(\"no\")"
   ]
  },
  {
   "cell_type": "code",
   "execution_count": 29,
   "id": "15dd3814",
   "metadata": {},
   "outputs": [],
   "source": [
    "import random"
   ]
  },
  {
   "cell_type": "code",
   "execution_count": 35,
   "id": "e3771889",
   "metadata": {},
   "outputs": [
    {
     "name": "stdout",
     "output_type": "stream",
     "text": [
      "choose the start range of the game:1\n",
      "choose the end range of the game:100\n",
      "guess the number between str(range1) to str(range2)\n",
      "guess the number:5\n",
      "its a smaller answer, try again\n",
      "90\n",
      "its a larger answer, try again\n",
      "50\n",
      "its a larger answer, try again\n",
      "30\n",
      "its a smaller answer, try again\n",
      "40\n",
      "its a larger answer, try again\n",
      "35\n",
      "its a larger answer, try again\n",
      "33\n",
      "congratulations 7\n"
     ]
    }
   ],
   "source": [
    "range1 = input(\"choose the start range of the game:\")\n",
    "range2 = input(\"choose the end range of the game:\")\n",
    "attempts = 1\n",
    "A = random.randint(int(range1),int(range2))\n",
    "print(\"guess the number between int(range1) to int(range2)\")\n",
    "\n",
    "guess = int(input(\"guess the number:\"))\n",
    "\n",
    "while A != guess:\n",
    "    if guess<A:\n",
    "        print(\"its a smaller answer, try again\")\n",
    "        guess = int(input())\n",
    "        attempts = attempts + 1\n",
    "    elif guess>A:\n",
    "        print(\"its a larger answer, try again\")\n",
    "        guess = int(input())\n",
    "        attempts = attempts + 1\n",
    "    else:\n",
    "        break\n",
    "print(\"congratulations\", str(attempts))"
   ]
  },
  {
   "cell_type": "markdown",
   "id": "d53b9c07",
   "metadata": {},
   "source": [
    "-----------------------------------------------------------------------------\n",
    "# Exercise 08\n",
    "Ask a sentence as input, then print the words in alphabetical order.\n",
    "Hint: look up how to split up a string"
   ]
  },
  {
   "cell_type": "code",
   "execution_count": 48,
   "id": "aa1ac029",
   "metadata": {},
   "outputs": [
    {
     "name": "stdout",
     "output_type": "stream",
     "text": [
      "Ask a sentence as input, then print the words in alphabetical order. Hint: look up how to split up a string\n",
      "a\n",
      "a\n",
      "alphabetical\n",
      "as\n",
      "ask\n",
      "hint:\n",
      "how\n",
      "in\n",
      "input,\n",
      "look\n",
      "order.\n",
      "print\n",
      "sentence\n",
      "split\n",
      "string\n",
      "the\n",
      "then\n",
      "to\n",
      "up\n",
      "up\n",
      "words\n"
     ]
    }
   ],
   "source": [
    "sentence = input()\n",
    "B = sentence.lower()\n",
    "split = str(B).split()\n",
    "A = split.sort()\n",
    "\n",
    "for A in split:\n",
    "    print(A)"
   ]
  },
  {
   "cell_type": "markdown",
   "id": "09a7b060",
   "metadata": {},
   "source": [
    "-----------------------------------------------------------------------------\n",
    "# Exercise 09\n",
    "Write a program using for loops to print a christmas tree of x lines high\n",
    "specified by the user.\n",
    "(use for loops)\n",
    "so for instance, a chrismas tree of 4 high should looks like this:\n",
    "\n",
    "```\n",
    "\n",
    "    *\n",
    "   ***\n",
    "  *****\n",
    " *******\n",
    "    |\n",
    "\n",
    "```\n",
    "\n",
    "hint: first combine strings into a variable before printing"
   ]
  },
  {
   "cell_type": "code",
   "execution_count": 57,
   "id": "5150f7a4",
   "metadata": {},
   "outputs": [
    {
     "ename": "TypeError",
     "evalue": "'str' object cannot be interpreted as an integer",
     "output_type": "error",
     "traceback": [
      "\u001b[1;31m---------------------------------------------------------------------------\u001b[0m",
      "\u001b[1;31mTypeError\u001b[0m                                 Traceback (most recent call last)",
      "Cell \u001b[1;32mIn[57], line 4\u001b[0m\n\u001b[0;32m      1\u001b[0m A \u001b[38;5;241m=\u001b[39m \u001b[38;5;124m\"\u001b[39m\u001b[38;5;124m*\u001b[39m\u001b[38;5;124m\"\u001b[39m\n\u001b[0;32m      2\u001b[0m n \u001b[38;5;241m=\u001b[39m \u001b[38;5;241m4\u001b[39m\n\u001b[1;32m----> 4\u001b[0m \u001b[38;5;28;01mfor\u001b[39;00m n \u001b[38;5;129;01min\u001b[39;00m \u001b[38;5;28mrange\u001b[39m(\u001b[38;5;28mstr\u001b[39m(A)):\n\u001b[0;32m      5\u001b[0m     \u001b[38;5;28mprint\u001b[39m(\u001b[38;5;28mstr\u001b[39m(n))\n",
      "\u001b[1;31mTypeError\u001b[0m: 'str' object cannot be interpreted as an integer"
     ]
    }
   ],
   "source": [
    "A = \"*\"\n",
    "n = 4\n",
    "\n"
   ]
  },
  {
   "cell_type": "code",
   "execution_count": 66,
   "id": "bd7e2683",
   "metadata": {},
   "outputs": [
    {
     "name": "stdout",
     "output_type": "stream",
     "text": [
      "*\n",
      "**\n",
      "***\n"
     ]
    }
   ],
   "source": [
    "A = \"*\"\n",
    "AA = str(A)*2\n",
    "AAA = str(A)*3\n",
    "\n",
    "for fruit in [str(A), str(AA), str(AAA)]:\n",
    "    print(fruit)\n",
    "  "
   ]
  },
  {
   "cell_type": "code",
   "execution_count": 96,
   "id": "f56930e8",
   "metadata": {},
   "outputs": [
    {
     "name": "stdout",
     "output_type": "stream",
     "text": [
      "0\n",
      "0 0\n",
      "0 1\n",
      "0 2\n",
      "1\n",
      "1 0\n",
      "1 1\n",
      "1 2\n",
      "2\n",
      "2 0\n",
      "2 1\n",
      "2 2\n"
     ]
    }
   ],
   "source": [
    "for i in range(0,int(n)):\n",
    "    print(i)\n",
    "    for j in range(0,int(n)):\n",
    "        print(i,j)"
   ]
  },
  {
   "cell_type": "code",
   "execution_count": 125,
   "id": "95d726eb",
   "metadata": {},
   "outputs": [
    {
     "name": "stdout",
     "output_type": "stream",
     "text": [
      "level of tree?10\n",
      "          \n",
      "         *\n",
      "        ***\n",
      "       *****\n",
      "      *******\n",
      "     *********\n",
      "    ***********\n",
      "   *************\n",
      "  ***************\n",
      " *****************\n",
      "         |\n"
     ]
    }
   ],
   "source": [
    "n = input(\"level of tree?\")\n",
    "\n",
    "for i in range(0,int(n)):\n",
    "    for j in range(0,int(n)-i):\n",
    "        print(\" \",end=\"\")\n",
    "    for a in range(0,i*2-1):\n",
    "        print(\"*\",end=\"\")\n",
    "    print(\"\")\n",
    "print(\" \" * (int(n)-2),\"|\")\n",
    "    "
   ]
  },
  {
   "cell_type": "markdown",
   "id": "07f67531",
   "metadata": {},
   "source": [
    "-----------------------------------------------------------------------------\n",
    "# Exercise 10\n",
    "Write a piece of code that prints the first $n$ numbers of the padovan sequence"
   ]
  },
  {
   "cell_type": "code",
   "execution_count": null,
   "id": "d301c61b",
   "metadata": {},
   "outputs": [],
   "source": []
  }
 ],
 "metadata": {
  "kernelspec": {
   "display_name": "Python 3 (ipykernel)",
   "language": "python",
   "name": "python3"
  },
  "language_info": {
   "codemirror_mode": {
    "name": "ipython",
    "version": 3
   },
   "file_extension": ".py",
   "mimetype": "text/x-python",
   "name": "python",
   "nbconvert_exporter": "python",
   "pygments_lexer": "ipython3",
   "version": "3.11.5"
  }
 },
 "nbformat": 4,
 "nbformat_minor": 5
}
